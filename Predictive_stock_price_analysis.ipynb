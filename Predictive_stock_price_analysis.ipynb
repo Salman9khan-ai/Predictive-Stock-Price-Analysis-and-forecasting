{
  "cells": [
    {
      "cell_type": "code",
      "execution_count": null,
      "metadata": {
        "id": "VldMk2KXLJ4a"
      },
      "outputs": [],
      "source": [
        "import yfinance as yf\n",
        "import pandas as pd\n"
      ]
    },
    {
      "cell_type": "code",
      "execution_count": null,
      "metadata": {
        "colab": {
          "base_uri": "https://localhost:8080/"
        },
        "id": "Q_BJio1iLyS2",
        "outputId": "cbdd768e-0fcc-4b86-b4e4-4e8e746fc994"
      },
      "outputs": [
        {
          "name": "stdout",
          "output_type": "stream",
          "text": [
            "YF.download() has changed argument auto_adjust default to True\n"
          ]
        },
        {
          "name": "stderr",
          "output_type": "stream",
          "text": [
            "\r[*********************100%***********************]  1 of 1 completed"
          ]
        },
        {
          "name": "stdout",
          "output_type": "stream",
          "text": [
            "Price           Close       High        Low       Open     Volume\n",
            "Ticker           AAPL       AAPL       AAPL       AAPL       AAPL\n",
            "Date                                                             \n",
            "2020-01-02  72.716080  72.776606  71.466820  71.721026  135480400\n",
            "2020-01-03  72.009117  72.771745  71.783962  71.941328  146322800\n",
            "2020-01-06  72.582909  72.621646  70.876075  71.127866  118387200\n",
            "2020-01-07  72.241547  72.849224  72.021231  72.592594  108872000\n",
            "2020-01-08  73.403656  73.706287  71.943766  71.943766  132079200\n"
          ]
        },
        {
          "name": "stderr",
          "output_type": "stream",
          "text": [
            "\n"
          ]
        }
      ],
      "source": [
        "stock_ticker = \"AAPL\"  # Example: Apple stock\n",
        "data = yf.download(stock_ticker, start=\"2020-01-01\", end=\"2025-04-22\")\n",
        "\n",
        "# Show the first few rows\n",
        "print(data.head())\n"
      ]
    },
    {
      "cell_type": "code",
      "execution_count": null,
      "metadata": {
        "id": "vp9vMhCkMd15"
      },
      "outputs": [],
      "source": [
        "data.to_csv(\"apple_stock_data.csv\")\n"
      ]
    },
    {
      "cell_type": "code",
      "execution_count": null,
      "metadata": {
        "colab": {
          "base_uri": "https://localhost:8080/"
        },
        "id": "njoEYUZwMCK7",
        "outputId": "c848039d-251d-4e5f-a81f-1e7bf10f4e0a"
      },
      "outputs": [
        {
          "name": "stdout",
          "output_type": "stream",
          "text": [
            "Price     0\n",
            "Close     1\n",
            "High      1\n",
            "Low       1\n",
            "Open      1\n",
            "Volume    1\n",
            "dtype: int64\n"
          ]
        }
      ],
      "source": [
        "import pandas as pd\n",
        "\n",
        "# Load the data\n",
        "data = pd.read_csv(\"apple_stock_data.csv\")\n",
        "\n",
        "# Check for missing values\n",
        "print(data.isnull().sum())\n"
      ]
    },
    {
      "cell_type": "code",
      "execution_count": null,
      "metadata": {
        "colab": {
          "base_uri": "https://localhost:8080/"
        },
        "id": "vRret2KcM3k3",
        "outputId": "a1314367-6df5-49f3-d1f7-330b935453c2"
      },
      "outputs": [
        {
          "name": "stdout",
          "output_type": "stream",
          "text": [
            "Price     0\n",
            "Close     0\n",
            "High      0\n",
            "Low       0\n",
            "Open      0\n",
            "Volume    0\n",
            "dtype: int64\n"
          ]
        }
      ],
      "source": [
        "import pandas as pd\n",
        "\n",
        "# Load the data\n",
        "data = pd.read_csv(\"apple_stock_data.csv\")\n",
        "\n",
        "# Fill missing values using forward fill (previous row)\n",
        "data.ffill(inplace=True)\n",
        "\n",
        "# Verify that missing values are gone\n",
        "print(data.isnull().sum())\n"
      ]
    },
    {
      "cell_type": "code",
      "execution_count": null,
      "metadata": {
        "colab": {
          "base_uri": "https://localhost:8080/"
        },
        "id": "-ud7xdv9NGOC",
        "outputId": "7f5924da-d369-4953-bded-1de1331d42c9"
      },
      "outputs": [
        {
          "name": "stdout",
          "output_type": "stream",
          "text": [
            "Requirement already satisfied: scikit-learn in /usr/local/lib/python3.11/dist-packages (1.6.1)\n",
            "Requirement already satisfied: numpy>=1.19.5 in /usr/local/lib/python3.11/dist-packages (from scikit-learn) (2.0.2)\n",
            "Requirement already satisfied: scipy>=1.6.0 in /usr/local/lib/python3.11/dist-packages (from scikit-learn) (1.14.1)\n",
            "Requirement already satisfied: joblib>=1.2.0 in /usr/local/lib/python3.11/dist-packages (from scikit-learn) (1.4.2)\n",
            "Requirement already satisfied: threadpoolctl>=3.1.0 in /usr/local/lib/python3.11/dist-packages (from scikit-learn) (3.6.0)\n"
          ]
        }
      ],
      "source": [
        "pip install scikit-learn\n"
      ]
    },
    {
      "cell_type": "code",
      "execution_count": null,
      "metadata": {
        "colab": {
          "base_uri": "https://localhost:8080/"
        },
        "id": "RETwrM3MNtn6",
        "outputId": "2cf158c1-87f4-423f-a65a-d42c667c8c19"
      },
      "outputs": [
        {
          "name": "stdout",
          "output_type": "stream",
          "text": [
            "       Open      High       Low     Close    Volume\n",
            "0       NaN       NaN       NaN       NaN       NaN\n",
            "1       NaN       NaN       NaN       NaN       NaN\n",
            "2 -1.904298 -1.907828 -1.884763 -1.883384  0.884979\n",
            "3 -1.899324 -1.907937 -1.877558 -1.899327  1.090947\n",
            "4 -1.917689 -1.911303 -1.898183 -1.886388  0.560267\n"
          ]
        }
      ],
      "source": [
        "from sklearn.preprocessing import StandardScaler\n",
        "import pandas as pd\n",
        "\n",
        "# Load the data\n",
        "data = pd.read_csv(\"apple_stock_data.csv\")\n",
        "\n",
        "# Ensure all columns are numeric\n",
        "data_numeric = data[['Open', 'High', 'Low', 'Close', 'Volume']].copy()\n",
        "\n",
        "# Convert to numeric, forcing errors to be handled\n",
        "data_numeric = data_numeric.apply(pd.to_numeric, errors='coerce')\n",
        "\n",
        "# Apply StandardScaler\n",
        "scaler = StandardScaler()\n",
        "data_scaled = scaler.fit_transform(data_numeric)\n",
        "\n",
        "# Convert back to DataFrame for easy handling\n",
        "data_scaled_df = pd.DataFrame(data_scaled, columns=data_numeric.columns)\n",
        "\n",
        "# Show processed data\n",
        "print(data_scaled_df.head())\n"
      ]
    },
    {
      "cell_type": "markdown",
      "metadata": {
        "id": "5eMF-PglOxol"
      },
      "source": [
        "What This Data Means\n",
        "The first two rows are full of NaN (Not a Number) values. This suggests that during preprocessing, some non-numeric values weren't handled properly.\n",
        "\n",
        "The remaining rows contain scaled values, meaning the stock prices have been standardized using StandardScaler(). These numbers represent how far each value is from the mean, measured in standard deviations.\n",
        "\n",
        "Interpreting the Scaled Values\n",
        "Negative values like -1.904298 mean the stock price was below the average.\n",
        "\n",
        "Positive values (not seen here but might exist in later rows) mean the stock price was above the average.\n",
        "\n",
        "The closer a value is to 0, the nearer it is to the mean price."
      ]
    },
    {
      "cell_type": "code",
      "execution_count": null,
      "metadata": {
        "id": "gOKjAMJyN_R0"
      },
      "outputs": [],
      "source": [
        "data_scaled_df.dropna(inplace=True)\n"
      ]
    },
    {
      "cell_type": "code",
      "execution_count": null,
      "metadata": {
        "colab": {
          "base_uri": "https://localhost:8080/"
        },
        "id": "htOfsgBRO54n",
        "outputId": "056f43ca-735a-4856-f5b3-2748a3348c80"
      },
      "outputs": [
        {
          "name": "stdout",
          "output_type": "stream",
          "text": [
            "       Open      High       Low     Close    Volume\n",
            "0  0.080821  0.084773  0.096577  0.089415  0.278335\n",
            "1  0.081909  0.084749  0.098118  0.085954  0.305221\n",
            "2  0.077893  0.084015  0.093706  0.088763  0.235949\n",
            "3  0.085124  0.085129  0.099272  0.087092  0.212354\n",
            "4  0.081921  0.089322  0.098895  0.092781  0.269901\n"
          ]
        }
      ],
      "source": [
        "from sklearn.preprocessing import MinMaxScaler\n",
        "import pandas as pd\n",
        "\n",
        "# Load the data\n",
        "data = pd.read_csv(\"apple_stock_data.csv\")\n",
        "\n",
        "# Remove any non-numeric columns before scaling\n",
        "data_numeric = data[['Open', 'High', 'Low', 'Close', 'Volume']].copy()\n",
        "\n",
        "# Convert all columns to numeric, forcing errors to be replaced with NaN\n",
        "data_numeric = data_numeric.apply(pd.to_numeric, errors='coerce')\n",
        "\n",
        "# Drop any remaining NaN values after conversion\n",
        "data_numeric.dropna(inplace=True)\n",
        "\n",
        "# Apply MinMaxScaler\n",
        "scaler = MinMaxScaler()\n",
        "data_scaled = scaler.fit_transform(data_numeric)\n",
        "\n",
        "# Convert back to DataFrame for easy handling\n",
        "data_scaled_df = pd.DataFrame(data_scaled, columns=data_numeric.columns)\n",
        "\n",
        "# Show processed data\n",
        "print(data_scaled_df.head())\n"
      ]
    },
    {
      "cell_type": "markdown",
      "metadata": {
        "id": "B-ybLvmZQB6e"
      },
      "source": [
        "Every value is now between 0 and 1, where:\n",
        "\n",
        "0 means the lowest value in the dataset.\n",
        "\n",
        "1 means the highest value in the dataset.\n",
        "\n",
        "Numbers in between show relative positioning.\n",
        "\n",
        "For example, in the first row:\n",
        "\n",
        "Open price (0.0808) means it’s closer to the lower end of historical stock prices.\n",
        "\n",
        "Volume (0.2783) suggests that the number of shares traded that day was around 27.8% of the highest observed volume."
      ]
    },
    {
      "cell_type": "markdown",
      "metadata": {
        "id": "m8DcdvusQW-i"
      },
      "source": [
        "Visualizing Stock Price Trends\n",
        "We’ll plot the closing price of Apple stock over time to observe patterns"
      ]
    },
    {
      "cell_type": "code",
      "execution_count": null,
      "metadata": {
        "colab": {
          "base_uri": "https://localhost:8080/"
        },
        "id": "LiVng7EiPDMe",
        "outputId": "16d1c265-cdc4-454e-c5f1-8bb9ac8e31b4"
      },
      "outputs": [
        {
          "name": "stdout",
          "output_type": "stream",
          "text": [
            "Index(['Price', 'Close', 'High', 'Low', 'Open', 'Volume'], dtype='object')\n"
          ]
        }
      ],
      "source": [
        "import pandas as pd\n",
        "\n",
        "# Load the data\n",
        "data = pd.read_csv(\"apple_stock_data.csv\")\n",
        "\n",
        "# Check column names\n",
        "print(data.columns)\n"
      ]
    },
    {
      "cell_type": "code",
      "execution_count": null,
      "metadata": {
        "id": "Udc7cs23QbDs"
      },
      "outputs": [],
      "source": [
        "data.rename(columns={' YourDateColumnName ': 'Date'}, inplace=True)  # Adjust column name\n"
      ]
    },
    {
      "cell_type": "code",
      "execution_count": null,
      "metadata": {
        "colab": {
          "base_uri": "https://localhost:8080/"
        },
        "id": "GHOC42KeQ9kS",
        "outputId": "718a3eb9-05dc-4e33-f961-26a1bbaf0081"
      },
      "outputs": [
        {
          "name": "stdout",
          "output_type": "stream",
          "text": [
            "Index(['Price', 'Close', 'High', 'Low', 'Open', 'Volume'], dtype='object')\n"
          ]
        }
      ],
      "source": [
        "print(data.columns)\n"
      ]
    },
    {
      "cell_type": "code",
      "execution_count": null,
      "metadata": {
        "id": "0vgk7Tk3RB_G"
      },
      "outputs": [],
      "source": [
        "data.rename(columns={'YourActualColumnName': 'Date'}, inplace=True)\n"
      ]
    },
    {
      "cell_type": "code",
      "execution_count": null,
      "metadata": {
        "colab": {
          "base_uri": "https://localhost:8080/"
        },
        "id": "MIcqi__LRdWW",
        "outputId": "f1d78241-c373-4565-a54c-038cea5b7488"
      },
      "outputs": [
        {
          "name": "stdout",
          "output_type": "stream",
          "text": [
            "                 Price              Close               High  \\\n",
            "Date                                                           \n",
            "2020-01-01      Ticker               AAPL               AAPL   \n",
            "2020-01-02        Date                NaN                NaN   \n",
            "2020-01-03  2020-01-02  72.71607971191406  72.77660582997152   \n",
            "2020-01-04  2020-01-03  72.00911712646484  72.77174458511139   \n",
            "2020-01-05  2020-01-06   72.5829086303711  72.62164622763687   \n",
            "\n",
            "                          Low               Open     Volume  \n",
            "Date                                                         \n",
            "2020-01-01               AAPL               AAPL       AAPL  \n",
            "2020-01-02                NaN                NaN        NaN  \n",
            "2020-01-03  71.46681974859514   71.7210264890596  135480400  \n",
            "2020-01-04   71.7839617851537  71.94132818321717  146322800  \n",
            "2020-01-05  70.87607527260708  71.12786596061405  118387200  \n"
          ]
        }
      ],
      "source": [
        "import pandas as pd\n",
        "\n",
        "# Generate a date range based on the dataset length\n",
        "data_length = len(data)\n",
        "data['Date'] = pd.date_range(start=\"2020-01-01\", periods=data_length, freq='D')\n",
        "\n",
        "# Set Date as the index\n",
        "data.set_index('Date', inplace=True)\n",
        "\n",
        "# Show first few rows\n",
        "print(data.head())\n"
      ]
    },
    {
      "cell_type": "code",
      "execution_count": null,
      "metadata": {
        "colab": {
          "base_uri": "https://localhost:8080/"
        },
        "id": "b77p5z03Rf4x",
        "outputId": "c2a29a49-0744-4a3c-c035-e97f68dce478"
      },
      "outputs": [
        {
          "name": "stdout",
          "output_type": "stream",
          "text": [
            "         Date  Unnamed: 1  Unnamed: 2  Unnamed: 3  Unnamed: 4  Unnamed: 5\n",
            "0  2020-01-02   72.716080   72.776606   71.466820   71.721026   135480400\n",
            "1  2020-01-03   72.009117   72.771745   71.783962   71.941328   146322800\n",
            "2  2020-01-06   72.582909   72.621646   70.876075   71.127866   118387200\n",
            "3  2020-01-07   72.241547   72.849224   72.021231   72.592594   108872000\n",
            "4  2020-01-08   73.403656   73.706287   71.943766   71.943766   132079200\n"
          ]
        }
      ],
      "source": [
        "import pandas as pd\n",
        "\n",
        "# Load the CSV correctly, skipping extra initial rows\n",
        "data = pd.read_csv(\"apple_stock_data.csv\", skiprows=2)  # Skip first 2 rows\n",
        "\n",
        "# Show first few rows to confirm it's clean\n",
        "print(data.head())\n"
      ]
    },
    {
      "cell_type": "code",
      "execution_count": null,
      "metadata": {
        "id": "jgbiksjMSrvV"
      },
      "outputs": [],
      "source": [
        "data.rename(columns={'Price': 'Date'}, inplace=True)  # Rename 'Price' to 'Date'\n",
        "data['Date'] = pd.to_datetime(data['Date'])  # Convert Date to datetime format\n",
        "data.set_index('Date', inplace=True)  # Set Date as index\n"
      ]
    },
    {
      "cell_type": "markdown",
      "metadata": {
        "id": "WtD2Kt9nS-YA"
      },
      "source": [
        "We’ll create a line chart to observe how the stock price has evolved over time."
      ]
    },
    {
      "cell_type": "code",
      "execution_count": null,
      "metadata": {
        "colab": {
          "base_uri": "https://localhost:8080/"
        },
        "id": "hsFFiCDySwOb",
        "outputId": "8e7d905b-c333-4c7b-f8b7-e05aadc0d420"
      },
      "outputs": [
        {
          "name": "stdout",
          "output_type": "stream",
          "text": [
            "Index(['Unnamed: 1', 'Unnamed: 2', 'Unnamed: 3', 'Unnamed: 4', 'Unnamed: 5'], dtype='object')\n"
          ]
        }
      ],
      "source": [
        "print(data.columns)\n"
      ]
    },
    {
      "cell_type": "code",
      "execution_count": null,
      "metadata": {
        "colab": {
          "base_uri": "https://localhost:8080/"
        },
        "id": "lCJwHWPPTBC5",
        "outputId": "ca428a32-c5b8-426e-a2a2-d11bfbbc3b63"
      },
      "outputs": [
        {
          "name": "stdout",
          "output_type": "stream",
          "text": [
            "Index(['Price', 'Close', 'High', 'Low', 'Open', 'Volume'], dtype='object')\n"
          ]
        }
      ],
      "source": [
        "import pandas as pd\n",
        "\n",
        "# Load CSV properly, ensuring the first row is recognized as column headers\n",
        "data = pd.read_csv(\"apple_stock_data.csv\", header=0)\n",
        "\n",
        "# Display corrected column names\n",
        "print(data.columns)\n"
      ]
    },
    {
      "cell_type": "code",
      "execution_count": null,
      "metadata": {
        "colab": {
          "base_uri": "https://localhost:8080/"
        },
        "id": "j_iB-muQTrim",
        "outputId": "1dc8f6cc-e5de-4db3-be3b-0b39fcf7df89"
      },
      "outputs": [
        {
          "name": "stdout",
          "output_type": "stream",
          "text": [
            "         Date  Unnamed: 1  Unnamed: 2  Unnamed: 3  Unnamed: 4  Unnamed: 5\n",
            "0  2020-01-02   72.716080   72.776606   71.466820   71.721026   135480400\n",
            "1  2020-01-03   72.009117   72.771745   71.783962   71.941328   146322800\n",
            "2  2020-01-06   72.582909   72.621646   70.876075   71.127866   118387200\n",
            "3  2020-01-07   72.241547   72.849224   72.021231   72.592594   108872000\n",
            "4  2020-01-08   73.403656   73.706287   71.943766   71.943766   132079200\n"
          ]
        }
      ],
      "source": [
        "data = pd.read_csv(\"apple_stock_data.csv\", skiprows=2)  # Skips first 2 rows\n",
        "print(data.head())  # Verify structure\n"
      ]
    },
    {
      "cell_type": "code",
      "execution_count": null,
      "metadata": {
        "id": "q0zA55vSTxCY"
      },
      "outputs": [],
      "source": [
        "data.rename(columns={'Price': 'Date'}, inplace=True)\n"
      ]
    },
    {
      "cell_type": "code",
      "execution_count": null,
      "metadata": {
        "id": "UYNuOhfXT2V_"
      },
      "outputs": [],
      "source": [
        "data['Date'] = pd.to_datetime(data['Date'])\n",
        "data.set_index('Date', inplace=True)\n"
      ]
    },
    {
      "cell_type": "code",
      "execution_count": null,
      "metadata": {
        "colab": {
          "base_uri": "https://localhost:8080/"
        },
        "id": "-Ltqd6QjT5vZ",
        "outputId": "9bbfd44b-7ab5-434a-edee-b0bf97da02b1"
      },
      "outputs": [
        {
          "name": "stdout",
          "output_type": "stream",
          "text": [
            "Index(['Unnamed: 1', 'Unnamed: 2', 'Unnamed: 3', 'Unnamed: 4', 'Unnamed: 5'], dtype='object')\n"
          ]
        }
      ],
      "source": [
        "print(data.columns)\n"
      ]
    },
    {
      "cell_type": "code",
      "execution_count": null,
      "metadata": {
        "colab": {
          "base_uri": "https://localhost:8080/"
        },
        "id": "21WQ5gYSUBbf",
        "outputId": "ddd46cf4-bee5-457c-ae40-ff94e568cef0"
      },
      "outputs": [
        {
          "name": "stdout",
          "output_type": "stream",
          "text": [
            "Index(['Price', 'Close', 'High', 'Low', 'Open', 'Volume'], dtype='object')\n"
          ]
        }
      ],
      "source": [
        "import pandas as pd\n",
        "\n",
        "# Load CSV correctly, making sure the first row is recognized as column headers\n",
        "data = pd.read_csv(\"apple_stock_data.csv\", header=0)\n",
        "\n",
        "# Display corrected column names\n",
        "print(data.columns)\n"
      ]
    },
    {
      "cell_type": "code",
      "execution_count": null,
      "metadata": {
        "id": "xjlR8-Z-UpSm"
      },
      "outputs": [],
      "source": [
        "data = pd.read_csv(\"apple_stock_data.csv\", skiprows=1)\n"
      ]
    },
    {
      "cell_type": "markdown",
      "metadata": {
        "id": "Nwm3X1VaU55j"
      },
      "source": []
    },
    {
      "cell_type": "code",
      "execution_count": null,
      "metadata": {
        "colab": {
          "base_uri": "https://localhost:8080/"
        },
        "id": "0FL_NDIdU7Pb",
        "outputId": "7a58cf92-b37b-4a8c-e023-1cab84649228"
      },
      "outputs": [
        {
          "name": "stdout",
          "output_type": "stream",
          "text": [
            "Index(['Ticker', 'AAPL', 'AAPL.1', 'AAPL.2', 'AAPL.3', 'AAPL.4'], dtype='object')\n"
          ]
        }
      ],
      "source": [
        "data.rename(columns={'Price': 'Date'}, inplace=True)\n",
        "print(data.columns)\n"
      ]
    },
    {
      "cell_type": "code",
      "execution_count": null,
      "metadata": {
        "colab": {
          "base_uri": "https://localhost:8080/"
        },
        "id": "4UJPhPnuVLZ6",
        "outputId": "ffffa057-4a19-48b7-ba7c-ed81e3a33cae"
      },
      "outputs": [
        {
          "name": "stdout",
          "output_type": "stream",
          "text": [
            "        Price              Close               High                Low  \\\n",
            "0      Ticker               AAPL               AAPL               AAPL   \n",
            "1        Date                NaN                NaN                NaN   \n",
            "2  2020-01-02  72.71607971191406  72.77660582997152  71.46681974859514   \n",
            "3  2020-01-03  72.00911712646484  72.77174458511139   71.7839617851537   \n",
            "4  2020-01-06   72.5829086303711  72.62164622763687  70.87607527260708   \n",
            "\n",
            "                Open     Volume  \n",
            "0               AAPL       AAPL  \n",
            "1                NaN        NaN  \n",
            "2   71.7210264890596  135480400  \n",
            "3  71.94132818321717  146322800  \n",
            "4  71.12786596061405  118387200  \n"
          ]
        }
      ],
      "source": [
        "data = pd.read_csv(\"apple_stock_data.csv\")\n",
        "print(data.head())\n"
      ]
    },
    {
      "cell_type": "markdown",
      "metadata": {
        "id": "KnT4KDLCVT5B"
      },
      "source": []
    },
    {
      "cell_type": "code",
      "execution_count": null,
      "metadata": {
        "id": "mzub-Os-VQJ7"
      },
      "outputs": [],
      "source": [
        "data = pd.read_csv(\"apple_stock_data.csv\", header=0)\n"
      ]
    },
    {
      "cell_type": "code",
      "execution_count": null,
      "metadata": {
        "colab": {
          "base_uri": "https://localhost:8080/"
        },
        "id": "m_ILjMedVUxr",
        "outputId": "4cd144d7-ba71-41ce-8c20-b3b93bc07cfb"
      },
      "outputs": [
        {
          "name": "stdout",
          "output_type": "stream",
          "text": [
            "         Date  Unnamed: 1  Unnamed: 2  Unnamed: 3  Unnamed: 4  Unnamed: 5\n",
            "0  2020-01-02   72.716080   72.776606   71.466820   71.721026   135480400\n",
            "1  2020-01-03   72.009117   72.771745   71.783962   71.941328   146322800\n",
            "2  2020-01-06   72.582909   72.621646   70.876075   71.127866   118387200\n",
            "3  2020-01-07   72.241547   72.849224   72.021231   72.592594   108872000\n",
            "4  2020-01-08   73.403656   73.706287   71.943766   71.943766   132079200\n"
          ]
        }
      ],
      "source": [
        "data = pd.read_csv(\"apple_stock_data.csv\", skiprows=2)\n",
        "print(data.head())\n",
        "data.rename(columns={'Price': 'Date'}, inplace=True)\n"
      ]
    },
    {
      "cell_type": "code",
      "execution_count": null,
      "metadata": {
        "id": "P0vOjgXvVeNT"
      },
      "outputs": [],
      "source": [
        "data['Date'] = pd.to_datetime(data['Date'], errors='coerce')\n",
        "data.dropna(subset=['Date'], inplace=True)  # Remove invalid rows\n",
        "data.set_index('Date', inplace=True)\n"
      ]
    },
    {
      "cell_type": "code",
      "execution_count": null,
      "metadata": {
        "colab": {
          "base_uri": "https://localhost:8080/"
        },
        "id": "nphDfJyqVjHy",
        "outputId": "d758b969-a137-4d31-ab6c-e042e7ba9c85"
      },
      "outputs": [
        {
          "name": "stdout",
          "output_type": "stream",
          "text": [
            "            Unnamed: 1  Unnamed: 2  Unnamed: 3  Unnamed: 4  Unnamed: 5\n",
            "Date                                                                  \n",
            "2020-01-02   72.716080   72.776606   71.466820   71.721026   135480400\n",
            "2020-01-03   72.009117   72.771745   71.783962   71.941328   146322800\n",
            "2020-01-06   72.582909   72.621646   70.876075   71.127866   118387200\n",
            "2020-01-07   72.241547   72.849224   72.021231   72.592594   108872000\n",
            "2020-01-08   73.403656   73.706287   71.943766   71.943766   132079200\n"
          ]
        }
      ],
      "source": [
        "print(data.head())\n"
      ]
    },
    {
      "cell_type": "code",
      "execution_count": null,
      "metadata": {
        "colab": {
          "base_uri": "https://localhost:8080/"
        },
        "id": "b-4uIbl9WQhh",
        "outputId": "d7e07a7c-e6d2-4851-f513-1b8f1ee98c09"
      },
      "outputs": [
        {
          "name": "stdout",
          "output_type": "stream",
          "text": [
            "Index(['Unnamed: 1', 'Unnamed: 2', 'Unnamed: 3', 'Unnamed: 4', 'Unnamed: 5'], dtype='object')\n",
            "5\n"
          ]
        }
      ],
      "source": [
        "print(data.columns)\n",
        "print(len(data.columns))\n"
      ]
    },
    {
      "cell_type": "code",
      "execution_count": null,
      "metadata": {
        "id": "K2rB-HOjWXOq"
      },
      "outputs": [],
      "source": [
        "data.columns = ['Date', 'Close', 'High', 'Low', 'Volume']\n"
      ]
    },
    {
      "cell_type": "code",
      "execution_count": null,
      "metadata": {
        "id": "6L7w38l9WcyD"
      },
      "outputs": [],
      "source": [
        "data = data.loc[:, ~data.columns.str.contains('^Unnamed')]\n"
      ]
    },
    {
      "cell_type": "markdown",
      "metadata": {
        "id": "CvgjdyDzWpUu"
      },
      "source": []
    },
    {
      "cell_type": "code",
      "execution_count": null,
      "metadata": {
        "colab": {
          "base_uri": "https://localhost:8080/"
        },
        "id": "TgnZpvnuWm6J",
        "outputId": "248e07dc-0c0d-4b9d-8401-492671f2a321"
      },
      "outputs": [
        {
          "name": "stdout",
          "output_type": "stream",
          "text": [
            "                 Date      Close       High        Low     Volume\n",
            "Date                                                             \n",
            "2020-01-02  72.716080  72.776606  71.466820  71.721026  135480400\n",
            "2020-01-03  72.009117  72.771745  71.783962  71.941328  146322800\n",
            "2020-01-06  72.582909  72.621646  70.876075  71.127866  118387200\n",
            "2020-01-07  72.241547  72.849224  72.021231  72.592594  108872000\n",
            "2020-01-08  73.403656  73.706287  71.943766  71.943766  132079200\n"
          ]
        }
      ],
      "source": [
        "print(data.head())\n"
      ]
    },
    {
      "cell_type": "code",
      "execution_count": null,
      "metadata": {
        "id": "_5SpS5-LW6lY"
      },
      "outputs": [],
      "source": [
        "import matplotlib.pyplot as plt\n",
        "\n",
        "plt.figure(figsize=(12, 6))\n",
        "plt.plot(data['Close'], label=\"Closing Price\", color='blue')\n",
        "plt.xlabel('Date')\n",
        "plt.ylabel('Closing Price ($)')\n",
        "plt.title('Stock Closing Price Over Time')\n",
        "plt.legend()\n",
        "plt.show()\n"
      ]
    },
    {
      "cell_type": "markdown",
      "metadata": {
        "id": "sP1MGeRxZRGL"
      },
      "source": [
        "The stock price generally went up from 2020 to 2024.\n",
        "\n",
        "It started at around   75    in 2020 and grew to over $225 in 2024.\n",
        "\n",
        "After reaching that peak, the price began to drop in 2024 and went down to around $200 in 2025."
      ]
    },
    {
      "cell_type": "code",
      "execution_count": null,
      "metadata": {
        "colab": {
          "base_uri": "https://localhost:8080/"
        },
        "id": "DLE2lV8OW-CW",
        "outputId": "63ec8346-52d8-4272-dd63-8729f304c986"
      },
      "outputs": [
        {
          "name": "stdout",
          "output_type": "stream",
          "text": [
            "              Date        Close         High          Low        Volume\n",
            "count  1332.000000  1332.000000  1332.000000  1332.000000  1.332000e+03\n",
            "mean    156.232972   157.860680   154.429939   156.071702  8.889406e+07\n",
            "std      44.360706    44.614094    44.034343    44.311531  5.266096e+07\n",
            "min      54.449894    55.452160    51.595990    55.350235  2.323470e+07\n",
            "25%     128.510788   129.852382   126.855689   128.514127  5.410175e+07\n",
            "50%     154.282135   156.124334   151.936156   154.133370  7.482940e+07\n",
            "75%     183.034550   184.537135   181.076306   182.720894  1.055703e+08\n",
            "max     258.735504   259.814335   257.347047   257.906429  4.265100e+08\n"
          ]
        }
      ],
      "source": [
        "print(data.describe())\n"
      ]
    },
    {
      "cell_type": "markdown",
      "metadata": {
        "id": "iR0WxhwXXsty"
      },
      "source": [
        "\n",
        "\n",
        "- **Count**: There are a total of **1,332 days** of stock data available in the dataset.\n",
        "- **Mean (Average)**: On average:\n",
        "  - The **closing price** of the stock is about **156.23**.\n",
        "  - The stock's **high price** is around **157.86**, while the **low price** averages **154.43**.\n",
        "  - The **volume of shares traded** is approximately **88.89 million shares per day**.\n",
        "- **Standard Deviation**: This shows the variation in the data. For example, the **closing price** fluctuates by about **44.36 units** from the average. Similarly, other prices and trading volumes also show variability.\n",
        "- **Minimum Value**: The lowest recorded:\n",
        "  - **Closing price** was **55.45**, and the lowest **volume** traded was **23.23 million shares**.\n",
        "- **25th Percentile (First Quartile)**: About **25% of the days** had closing prices below **128.51**, and daily volumes below **54.10 million shares**.\n",
        "- **Median (50th Percentile)**: Half of the days had closing prices **156.12** or lower, and trading volumes of **74.82 million shares or fewer**.\n",
        "- **75th Percentile (Third Quartile)**: On 75% of the days, the closing price was less than **184.54**, and trading volumes were below **105.57 million shares**.\n",
        "- **Maximum**: The highest recorded:\n",
        "  - **Closing price** reached **259.81**, and trading volumes peaked at **426.51 million shares**.\n"
      ]
    },
    {
      "cell_type": "code",
      "execution_count": null,
      "metadata": {
        "id": "SZ2FY9IdXI9m"
      },
      "outputs": [],
      "source": [
        "data['30-Day MA'] = data['Close'].rolling(window=30).mean()\n"
      ]
    },
    {
      "cell_type": "markdown",
      "metadata": {
        "id": "sAtSXboNYLPV"
      },
      "source": [
        "Compute the Correlation Matrix: Use the corr() function to calculate pairwise correlations between numerical features:"
      ]
    },
    {
      "cell_type": "code",
      "execution_count": null,
      "metadata": {
        "colab": {
          "base_uri": "https://localhost:8080/"
        },
        "id": "-SFDQ99dXLJR",
        "outputId": "32df757d-f315-4fae-fc22-d4b1f75a4b6e"
      },
      "outputs": [
        {
          "name": "stdout",
          "output_type": "stream",
          "text": [
            "               Date     Close      High       Low    Volume  30-Day MA\n",
            "Date       1.000000  0.999304  0.999271  0.998455 -0.634734   0.979447\n",
            "Close      0.999304  1.000000  0.998989  0.999217 -0.625494   0.981505\n",
            "High       0.999271  0.998989  1.000000  0.999308 -0.643587   0.978257\n",
            "Low        0.998455  0.999217  0.999308  1.000000 -0.634786   0.979952\n",
            "Volume    -0.634734 -0.625494 -0.643587 -0.634786  1.000000  -0.609732\n",
            "30-Day MA  0.979447  0.981505  0.978257  0.979952 -0.609732   1.000000\n"
          ]
        }
      ],
      "source": [
        "correlation_matrix = data.corr()\n",
        "print(correlation_matrix)\n"
      ]
    },
    {
      "cell_type": "markdown",
      "metadata": {
        "id": "UNfuoGGrZvmY"
      },
      "source": [
        "Strong Positive Correlations:\n",
        "\n",
        "Close, High, Low, and 30-Day MA all show values close to 1. This means these features tend to move together. For example:\n",
        "\n",
        "When the stock’s closing price increases, its high price and low price are also likely to increase.\n",
        "\n",
        "The 30-Day MA (moving average) is strongly correlated with the closing price because it reflects recent trends.\n",
        "\n",
        "Negative Correlations with Volume:\n",
        "\n",
        "Volume (number of shares traded) has negative correlations with price features (Close, High, Low). This suggests that higher trading volume doesn't necessarily lead to higher stock prices—it may sometimes indicate price decreases.\n",
        "\n",
        "Meaningful Feature Relationships:\n",
        "\n",
        "Prices like Close, High, and Low are tightly interconnected—they are all measures of the stock’s price at different times of the day, so it makes sense that they are strongly correlated.\n",
        "\n",
        "Simplified Conclusion\n",
        "This analysis helps you understand:\n",
        "\n",
        "Stock prices (Close, High, Low) move in sync with each other and the overall market trend (30-Day MA).\n",
        "\n",
        "Trading volume (Volume) behaves differently and sometimes inversely, showing a unique dynamic in the stock market."
      ]
    },
    {
      "cell_type": "code",
      "execution_count": null,
      "metadata": {
        "id": "ApNQ5M-5ZisB"
      },
      "outputs": [],
      "source": [
        "import seaborn as sns\n",
        "import matplotlib.pyplot as plt\n",
        "\n",
        "plt.figure(figsize=(10, 8))\n",
        "sns.heatmap(correlation_matrix, annot=True, cmap=\"coolwarm\", fmt=\".2f\", linewidths=0.5)\n",
        "plt.title(\"Feature Correlation Matrix\")\n",
        "plt.show()\n"
      ]
    },
    {
      "cell_type": "markdown",
      "metadata": {
        "id": "yxuLTmjfaih7"
      },
      "source": [
        "Stock price indicators (Close, High, Low) move together over time.\n",
        "\n",
        "Trading Volume behaves opposite to stock prices—it tends to go down when prices rise.\n",
        "\n",
        "The 30-Day Moving Average also closely follows stock prices."
      ]
    },
    {
      "cell_type": "code",
      "execution_count": null,
      "metadata": {
        "colab": {
          "base_uri": "https://localhost:8080/"
        },
        "id": "CP-4SWz6Z5ia",
        "outputId": "bc54de4b-7eb1-4256-d0b4-4e687a16cbd4"
      },
      "outputs": [
        {
          "name": "stdout",
          "output_type": "stream",
          "text": [
            "Requirement already satisfied: pandas in /usr/local/lib/python3.11/dist-packages (2.2.2)\n",
            "Requirement already satisfied: numpy in /usr/local/lib/python3.11/dist-packages (2.0.2)\n",
            "Requirement already satisfied: matplotlib in /usr/local/lib/python3.11/dist-packages (3.10.0)\n",
            "Requirement already satisfied: statsmodels in /usr/local/lib/python3.11/dist-packages (0.14.4)\n",
            "Requirement already satisfied: python-dateutil>=2.8.2 in /usr/local/lib/python3.11/dist-packages (from pandas) (2.8.2)\n",
            "Requirement already satisfied: pytz>=2020.1 in /usr/local/lib/python3.11/dist-packages (from pandas) (2025.2)\n",
            "Requirement already satisfied: tzdata>=2022.7 in /usr/local/lib/python3.11/dist-packages (from pandas) (2025.2)\n",
            "Requirement already satisfied: contourpy>=1.0.1 in /usr/local/lib/python3.11/dist-packages (from matplotlib) (1.3.2)\n",
            "Requirement already satisfied: cycler>=0.10 in /usr/local/lib/python3.11/dist-packages (from matplotlib) (0.12.1)\n",
            "Requirement already satisfied: fonttools>=4.22.0 in /usr/local/lib/python3.11/dist-packages (from matplotlib) (4.57.0)\n",
            "Requirement already satisfied: kiwisolver>=1.3.1 in /usr/local/lib/python3.11/dist-packages (from matplotlib) (1.4.8)\n",
            "Requirement already satisfied: packaging>=20.0 in /usr/local/lib/python3.11/dist-packages (from matplotlib) (24.2)\n",
            "Requirement already satisfied: pillow>=8 in /usr/local/lib/python3.11/dist-packages (from matplotlib) (11.1.0)\n",
            "Requirement already satisfied: pyparsing>=2.3.1 in /usr/local/lib/python3.11/dist-packages (from matplotlib) (3.2.3)\n",
            "Requirement already satisfied: scipy!=1.9.2,>=1.8 in /usr/local/lib/python3.11/dist-packages (from statsmodels) (1.14.1)\n",
            "Requirement already satisfied: patsy>=0.5.6 in /usr/local/lib/python3.11/dist-packages (from statsmodels) (1.0.1)\n",
            "Requirement already satisfied: six>=1.5 in /usr/local/lib/python3.11/dist-packages (from python-dateutil>=2.8.2->pandas) (1.17.0)\n"
          ]
        }
      ],
      "source": [
        "!pip install pandas numpy matplotlib statsmodels\n"
      ]
    },
    {
      "cell_type": "code",
      "execution_count": null,
      "metadata": {
        "id": "64_ZEgc5bNow"
      },
      "outputs": [],
      "source": [
        "import pandas as pd\n",
        "import numpy as np\n",
        "import matplotlib.pyplot as plt\n",
        "from statsmodels.tsa.arima_model import ARIMA\n",
        "from statsmodels.graphics.tsaplots import plot_acf, plot_pacf\n"
      ]
    },
    {
      "cell_type": "markdown",
      "metadata": {
        "id": "xU60ubGmbdyS"
      },
      "source": [
        "# ***ARIMA (Autoregressive Integrated Moving Average)***"
      ]
    },
    {
      "cell_type": "code",
      "execution_count": null,
      "metadata": {
        "colab": {
          "base_uri": "https://localhost:8080/"
        },
        "id": "jfTct1nzbRQZ",
        "outputId": "9f54a70e-b912-43e5-f1ca-1002ace3064a"
      },
      "outputs": [
        {
          "data": {
            "image/png": "[encoded data removed]",
            "text/plain": [
              "<Figure size 1000x600 with 1 Axes>"
            ]
          },
          "metadata": {},
          "output_type": "display_data"
        }
      ],
      "source": [
        "plt.figure(figsize=(10, 6))\n",
        "plt.plot(data, label=\"Closing Price\")\n",
        "plt.title(\"Stock Closing Price Over Time\")\n",
        "plt.xlabel(\"Date\")\n",
        "plt.ylabel(\"Price\")\n",
        "plt.legend()\n",
        "plt.show()\n"
      ]
    },
    {
      "cell_type": "markdown",
      "metadata": {
        "id": "fXJ7SonKb63C"
      },
      "source": [
        "Early volatility: In 2020, the stock price fluctuated significantly, reaching peaks above 400 million.\n",
        "\n",
        "Gradual decline: Over the years, the price saw a downward trend, although some spikes occurred.\n",
        "\n",
        "Lower stability: By 2025, the stock price remained lower compared to the early period but showed some increase."
      ]
    },
    {
      "cell_type": "code",
      "execution_count": null,
      "metadata": {
        "colab": {
          "base_uri": "https://localhost:8080/"
        },
        "id": "JbaA3utuXuGc",
        "outputId": "ef4fce8a-dea3-4f0a-e97d-573faca91385"
      },
      "outputs": [
        {
          "name": "stdout",
          "output_type": "stream",
          "text": [
            "Requirement already satisfied: statsmodels in /usr/local/lib/python3.11/dist-packages (0.14.4)\n",
            "Requirement already satisfied: numpy<3,>=1.22.3 in /usr/local/lib/python3.11/dist-packages (from statsmodels) (2.0.2)\n",
            "Requirement already satisfied: scipy!=1.9.2,>=1.8 in /usr/local/lib/python3.11/dist-packages (from statsmodels) (1.14.1)\n",
            "Requirement already satisfied: pandas!=2.1.0,>=1.4 in /usr/local/lib/python3.11/dist-packages (from statsmodels) (2.2.2)\n",
            "Requirement already satisfied: patsy>=0.5.6 in /usr/local/lib/python3.11/dist-packages (from statsmodels) (1.0.1)\n",
            "Requirement already satisfied: packaging>=21.3 in /usr/local/lib/python3.11/dist-packages (from statsmodels) (24.2)\n",
            "Requirement already satisfied: python-dateutil>=2.8.2 in /usr/local/lib/python3.11/dist-packages (from pandas!=2.1.0,>=1.4->statsmodels) (2.8.2)\n",
            "Requirement already satisfied: pytz>=2020.1 in /usr/local/lib/python3.11/dist-packages (from pandas!=2.1.0,>=1.4->statsmodels) (2025.2)\n",
            "Requirement already satisfied: tzdata>=2022.7 in /usr/local/lib/python3.11/dist-packages (from pandas!=2.1.0,>=1.4->statsmodels) (2025.2)\n",
            "Requirement already satisfied: six>=1.5 in /usr/local/lib/python3.11/dist-packages (from python-dateutil>=2.8.2->pandas!=2.1.0,>=1.4->statsmodels) (1.17.0)\n"
          ]
        }
      ],
      "source": [
        "from statsmodels.tsa.stattools import adfuller\n",
        "!pip install statsmodels\n",
        "\n"
      ]
    },
    {
      "cell_type": "code",
      "execution_count": null,
      "metadata": {
        "colab": {
          "base_uri": "https://localhost:8080/"
        },
        "id": "Mt4Q0mFGbVo3",
        "outputId": "fbc2e1b7-3068-4dc3-8340-c6559f78d3b1"
      },
      "outputs": [
        {
          "name": "stdout",
          "output_type": "stream",
          "text": [
            "ADF Statistic: -1.8241384872405575\n",
            "p-value: 0.368545155769324\n",
            "Data is not stationary; differencing needed.\n"
          ]
        }
      ],
      "source": [
        "result = adfuller(data['Close'])  # Replace 'Close' with your target column name\n",
        "print('ADF Statistic:', result[0])\n",
        "print('p-value:', result[1])\n",
        "if result[1] > 0.05:\n",
        "    print(\"Data is not stationary; differencing needed.\")\n",
        "else:\n",
        "    print(\"Data is stationary.\")\n",
        "\n",
        "\n"
      ]
    },
    {
      "cell_type": "markdown",
      "metadata": {
        "id": "ecPqazoWcIK_"
      },
      "source": [
        "ARIMA requires the data to be stationary. Use the Augmented Dickey-Fuller (ADF) test to check stationarity: since the data in not stationary so differencing needed"
      ]
    },
    {
      "cell_type": "code",
      "execution_count": null,
      "metadata": {
        "id": "oeIiEq4VcKg2"
      },
      "outputs": [],
      "source": [
        "data_diff = data.diff().dropna()\n"
      ]
    },
    {
      "cell_type": "markdown",
      "metadata": {
        "id": "-71-0-8gcplc"
      },
      "source": [
        "now visualize the differenced data"
      ]
    },
    {
      "cell_type": "code",
      "execution_count": null,
      "metadata": {
        "colab": {
          "base_uri": "https://localhost:8080/"
        },
        "id": "pKRyMHYpcn8U",
        "outputId": "b2a7c2e2-8bcd-49d2-c928-c46fe8173bdb"
      },
      "outputs": [
        {
          "data": {
            "image/png": "[encoded data removed]",
            "text/plain": [
              "<Figure size 1000x600 with 1 Axes>"
            ]
          },
          "metadata": {},
          "output_type": "display_data"
        }
      ],
      "source": [
        "import matplotlib.pyplot as plt\n",
        "\n",
        "plt.figure(figsize=(10, 6))\n",
        "plt.plot(data_diff, label=\"Differenced Data\", color='green')\n",
        "plt.title(\"Differenced Data (Stationary)\")\n",
        "plt.xlabel(\"Date\")\n",
        "plt.ylabel(\"Price Change\")\n",
        "plt.legend()\n",
        "plt.show()\n"
      ]
    },
    {
      "cell_type": "markdown",
      "metadata": {
        "id": "aiSGOX6ZdFvo"
      },
      "source": [
        "Early Years (2020-2021):\n",
        "\n",
        "The stock data shows high volatility, with significant ups and downs in price movements.\n",
        "\n",
        "These fluctuations suggest an unstable market or a stock experiencing sharp changes in value.\n",
        "\n",
        "Mid-Period (2022-2023):\n",
        "\n",
        "There is still some volatility, but fluctuations start to become more controlled.\n",
        "\n",
        "This might indicate a transition phase, where the stock is moving toward a more stable trend.\n",
        "\n",
        "Later Years (2024-2025):\n",
        "\n",
        "The data shows less extreme movements, suggesting stabilization in price changes.\n",
        "\n",
        "The differencing technique used here has helped transform the stock data into a stationary series (meaning its statistical properties are more consistent over time).\n",
        "\n",
        "What This Graph Shows:\n",
        "It represents differenced data, meaning past price values have been adjusted to highlight trends while removing long-term drift.\n",
        "\n",
        "This method helps analysts work with stationary data, which is essential for forecasting.\n",
        "\n",
        "Investors can use this to identify patterns—like periods of volatility versus stability—helping make smarter decisions."
      ]
    },
    {
      "cell_type": "markdown",
      "metadata": {
        "id": "S1h9WiWcdOl9"
      },
      "source": [
        "# **Recheck stationarity**"
      ]
    },
    {
      "cell_type": "code",
      "execution_count": null,
      "metadata": {
        "colab": {
          "base_uri": "https://localhost:8080/"
        },
        "id": "-eA_yjO5cu-D",
        "outputId": "1305380f-ea91-451c-e6b5-e562f308d54e"
      },
      "outputs": [
        {
          "name": "stdout",
          "output_type": "stream",
          "text": [
            "                Date     Close      High       Low      Volume  30-Day MA\n",
            "Date                                                                     \n",
            "2020-02-14  0.019409 -0.058250 -0.121349  0.133461 -14634000.0   0.211063\n",
            "2020-02-18 -1.443939 -1.511889 -1.999676 -2.276326  72417600.0   0.160829\n",
            "2020-02-19  1.121178  1.169716  1.308045  1.126036 -58547200.0   0.204823\n",
            "2020-02-20 -0.805687  0.019420 -0.434388  0.638256   6582000.0   0.197884\n",
            "2020-02-21 -1.759407 -1.019231 -1.871037 -0.973129  28988000.0   0.135341\n",
            "(1302, 6)\n"
          ]
        }
      ],
      "source": [
        "print(data_diff.head())\n",
        "print(data_diff.shape)\n"
      ]
    },
    {
      "cell_type": "code",
      "execution_count": null,
      "metadata": {
        "id": "x61XqSccY0Yf"
      },
      "outputs": [],
      "source": []
    },
    {
      "cell_type": "code",
      "execution_count": null,
      "metadata": {
        "colab": {
          "base_uri": "https://localhost:8080/"
        },
        "id": "77T5tu6RdZYY",
        "outputId": "3d53d3dc-e0eb-4915-eacd-2f681569bb95"
      },
      "outputs": [
        {
          "name": "stdout",
          "output_type": "stream",
          "text": [
            "ADF Statistic: -32.45798467370882\n",
            "p-value: 0.0\n",
            "Data is now stationary.\n"
          ]
        }
      ],
      "source": [
        "result = adfuller(data_diff['Close'])\n",
        "print('ADF Statistic:', result[0])\n",
        "print('p-value:', result[1])\n",
        "if result[1] > 0.05:\n",
        "    print(\"Data is still not stationary; additional transformations may be needed.\")\n",
        "else:\n",
        "    print(\"Data is now stationary.\")\n"
      ]
    },
    {
      "cell_type": "markdown",
      "metadata": {
        "id": "QXU9bQxcd2Wt"
      },
      "source": [
        "now the data is stationary\n",
        "now we are going to determine the ARIMA parametres Since d=1 (from differencing to achieve stationarity), you need to determine the p (AR lag order) and q (MA lag order). Use ACF and PACF plots for this:"
      ]
    },
    {
      "cell_type": "code",
      "execution_count": null,
      "metadata": {
        "colab": {
          "base_uri": "https://localhost:8080/"
        },
        "id": "z4gSUQVpdnOr",
        "outputId": "c08a91a8-8668-4ae9-f89d-5ef06dcae240"
      },
      "outputs": [
        {
          "data": {
            "image/png": "[encoded data removed]",
            "text/plain": [
              "<Figure size 640x480 with 1 Axes>"
            ]
          },
          "metadata": {},
          "output_type": "display_data"
        },
        {
          "data": {
            "image/png": "[encoded data removed]",
            "text/plain": [
              "<Figure size 640x480 with 1 Axes>"
            ]
          },
          "metadata": {},
          "output_type": "display_data"
        }
      ],
      "source": [
        "from statsmodels.graphics.tsaplots import plot_acf, plot_pacf\n",
        "\n",
        "# ACF for q (Moving Average term)\n",
        "plot_acf(data_diff['Close'], lags=30)\n",
        "plt.title(\"ACF Plot\")\n",
        "plt.show()\n",
        "\n",
        "# PACF for p (Autoregressive term)\n",
        "plot_pacf(data_diff['Close'], lags=30)\n",
        "plt.title(\"PACF Plot\")\n",
        "plt.show()\n"
      ]
    },
    {
      "cell_type": "markdown",
      "metadata": {
        "id": "YbyqF1Glemmo"
      },
      "source": [
        "# ***ACF PLOT***\n",
        " \"Differenced Data (Stationary),\" displays price changes over time from 2020 to 2025 in a time series format. The technique used here is differencing, which helps in making the data stationary—meaning its statistical properties remain consistent over time.\n",
        "\n",
        "Observations Over Time:\n",
        "2020 - Early Years:\n",
        "\n",
        "The stock shows high volatility, with large fluctuations in price movements.\n",
        "\n",
        "These sharp ups and downs suggest that the stock was going through high uncertainty, possibly due to external market conditions.\n",
        "\n",
        "2021-2023 - Transition Period:\n",
        "\n",
        "The price movement begins to stabilize a little, but fluctuations still exist.\n",
        "\n",
        "This indicates a gradual shift from volatility towards a more balanced trend.\n",
        "\n",
        "2024-2025 - Stabilization:\n",
        "\n",
        "The price change reduces significantly, showing less extreme movements compared to earlier years.\n",
        "\n",
        "This suggests that the stock has entered a more stable phase, where drastic shifts are no longer common."
      ]
    },
    {
      "cell_type": "markdown",
      "metadata": {
        "id": "2LWkvLgoepSb"
      },
      "source": [
        "# ***PACF PLOT***\n",
        "### **Detailed Summary of the Two Graphs:**\n",
        "\n",
        "These graphs represent the **Autocorrelation Function (ACF)** and **Partial Autocorrelation Function (PACF)**, which are essential tools in time series analysis.\n",
        "\n",
        "---\n",
        "\n",
        "### **1. Autocorrelation Function (ACF) Graph**\n",
        "**What it shows:**\n",
        "- The **ACF measures** how a time series is correlated with its **past values (lags)**.\n",
        "- The x-axis represents the **lag** (time steps), while the y-axis shows the **correlation coefficient**.\n",
        "- At lag **0**, the correlation is **1**, which is expected since any data point is always perfectly correlated with itself.\n",
        "- Beyond lag 0, most correlation values are **close to zero**, indicating **weak autocorrelation** between past observations.\n",
        "\n",
        "**Key observations:**\n",
        "- The **blue shaded area** represents the **confidence interval**, meaning values within this region are **statistically insignificant**.\n",
        "- Since most of the autocorrelation values fall **inside this interval**, it suggests that the time series does not have a **strong pattern** in how past values influence future ones.\n",
        "- This could indicate a **random behavior** or a series that does not strongly depend on previous values.\n",
        "\n",
        "---\n",
        "\n",
        "### **2. Partial Autocorrelation Function (PACF) Graph**\n",
        "**What it shows:**\n",
        "- The **PACF measures** the direct relationship between the time series and its lags **without interference from other lags**.\n",
        "- Similar to ACF, the **x-axis represents lag numbers**, and the **y-axis represents partial autocorrelation values**.\n",
        "- The **first lag (0)** has a value of **1**, which is expected.\n",
        "- Most partial correlations beyond **lag 1** are **close to zero**, meaning the data does **not exhibit strong direct relationships** with further past values.\n",
        "\n",
        "**Key observations:**\n",
        "- The **blue shaded area** again represents the **confidence interval**.\n",
        "- Since **only the first lag** seems to be significantly correlated while the rest fall within the confidence interval, it suggests that **only one previous time step significantly impacts the next**.\n",
        "- This type of pattern often hints that the **time series follows a simple autoregressive (AR) process**, where only the **most recent past value** directly affects future values.\n",
        "\n",
        "---\n",
        "\n",
        "### **Implications for Forecasting:**\n",
        "- **The ACF suggests** that the data lacks strong overall correlations with its past values.\n",
        "- **The PACF suggests** that an **AR(1) model** (autoregressive model of order 1) might be suitable, meaning future values depend only on the **most recent past value**.\n",
        "- These insights help in **model selection**, where analysts decide whether to use AR models, moving average models, or combined approaches (ARIMA).\n",
        "\n"
      ]
    },
    {
      "cell_type": "markdown",
      "metadata": {
        "id": "Kudu7YdMfaeR"
      },
      "source": [
        "**FIT THE ARIMA MODEL**"
      ]
    },
    {
      "cell_type": "markdown",
      "metadata": {
        "id": "c7ZMi-iJft03"
      },
      "source": [
        "ACF Plot (for q - Moving Average): Look for the lag where autocorrelation values drop below the confidence interval (blue shaded region). This lag indicates the value of q."
      ]
    },
    {
      "cell_type": "markdown",
      "metadata": {
        "id": "_A36T6CinRnQ"
      },
      "source": [
        "from  ACF and PACF we found out that q = 0 and p = 1"
      ]
    },
    {
      "cell_type": "code",
      "execution_count": null,
      "metadata": {
        "colab": {
          "base_uri": "https://localhost:8080/"
        },
        "id": "vXKlGhDif1lD",
        "outputId": "64228aa4-1438-4cf4-b737-96f1b29c4659"
      },
      "outputs": [
        {
          "name": "stdout",
          "output_type": "stream",
          "text": [
            "                               SARIMAX Results                                \n",
            "==============================================================================\n",
            "Dep. Variable:                  Close   No. Observations:                 1332\n",
            "Model:                 ARIMA(1, 1, 0)   Log Likelihood               -3160.570\n",
            "Date:                Tue, 22 Apr 2025   AIC                           6325.140\n",
            "Time:                        21:24:50   BIC                           6335.528\n",
            "Sample:                             0   HQIC                          6329.033\n",
            "                               - 1332                                         \n",
            "Covariance Type:                  opg                                         \n",
            "==============================================================================\n",
            "                 coef    std err          z      P>|z|      [0.025      0.975]\n",
            "------------------------------------------------------------------------------\n",
            "ar.L1          0.1032      0.018      5.604      0.000       0.067       0.139\n",
            "sigma2         6.7618      0.139     48.667      0.000       6.489       7.034\n",
            "===================================================================================\n",
            "Ljung-Box (L1) (Q):                   0.01   Jarque-Bera (JB):              1552.71\n",
            "Prob(Q):                              0.94   Prob(JB):                         0.00\n",
            "Heteroskedasticity (H):               2.44   Skew:                            -0.37\n",
            "Prob(H) (two-sided):                  0.00   Kurtosis:                         8.24\n",
            "===================================================================================\n",
            "\n",
            "Warnings:\n",
            "[1] Covariance matrix calculated using the outer product of gradients (complex-step).\n"
          ]
        },
        {
          "name": "stderr",
          "output_type": "stream",
          "text": [
            "/usr/local/lib/python3.11/dist-packages/statsmodels/tsa/base/tsa_model.py:473: ValueWarning: A date index has been provided, but it has no associated frequency information and so will be ignored when e.g. forecasting.\n",
            "  self._init_dates(dates, freq)\n",
            "/usr/local/lib/python3.11/dist-packages/statsmodels/tsa/base/tsa_model.py:473: ValueWarning: A date index has been provided, but it has no associated frequency information and so will be ignored when e.g. forecasting.\n",
            "  self._init_dates(dates, freq)\n",
            "/usr/local/lib/python3.11/dist-packages/statsmodels/tsa/base/tsa_model.py:473: ValueWarning: A date index has been provided, but it has no associated frequency information and so will be ignored when e.g. forecasting.\n",
            "  self._init_dates(dates, freq)\n"
          ]
        }
      ],
      "source": [
        "from statsmodels.tsa.arima.model import ARIMA\n",
        "\n",
        "# Define the ARIMA model with p=1, d=1, q=0\n",
        "model = ARIMA(data['Close'], order=(1, 1, 0))\n",
        "arima_result = model.fit()\n",
        "\n",
        "# Print the model summary\n",
        "print(arima_result.summary())\n"
      ]
    },
    {
      "cell_type": "markdown",
      "metadata": {
        "id": "q1i-aVFjhUHE"
      },
      "source": [
        "Model Specification\n",
        "Dependent Variable: Close — The target variable being forecasted (closing stock price).\n",
        "\n",
        "Observations: 1332 — The number of data points used in the model.\n",
        "\n",
        "Model: ARIMA(1, 1, 0) — The chosen ARIMA configuration:\n",
        "\n",
        "p=1 (one lag in the autoregressive component)\n",
        "\n",
        "d=1 (first differencing applied to make the data stationary)\n",
        "\n",
        "q=0 (no moving average component).\n",
        "\n",
        "2. Model Statistics\n",
        "Log Likelihood: -3160.570 — A measure of model fit; higher values are better. Negative values indicate the model is working with log probabilities.\n",
        "\n",
        "AIC (Akaike Information Criterion): 6325.140 — Lower values suggest a better-fitting model with fewer parameters.\n",
        "\n",
        "BIC (Bayesian Information Criterion): 6335.527 — Similar to AIC but penalizes complexity more heavily.\n",
        "\n",
        "HQIC (Hannan-Quinn Criterion): 6329.032 — Another metric for model selection, balancing fit and complexity.\n",
        "\n",
        "3. Parameter Estimates\n",
        "ar.L1 (Autoregressive Lag 1):\n",
        "\n",
        "Coefficient: 0.1032 — Indicates the strength of dependence on the first lag (previous closing price).\n",
        "\n",
        "Std Err: 0.018 — The standard error of the coefficient, showing the level of uncertainty.\n",
        "\n",
        "z-score: 5.604 — The coefficient divided by its standard error, indicating statistical significance.\n",
        "\n",
        "P>|z|: 0.000 — The p-value shows this parameter is highly significant (p < 0.05).\n",
        "\n",
        "Confidence Interval: [0.067, 0.139] — The range within which the true value of the coefficient is likely to fall.\n",
        "\n",
        "sigma2 (Variance of Errors):\n",
        "\n",
        "Coefficient: 6.7618 — Measures the variability of the residuals (errors in predictions).\n",
        "\n",
        "Std Err: 0.139 — Indicates minimal uncertainty in the error variance estimate.\n",
        "\n",
        "z-score: 48.667 — A very high z-value indicates the error variance estimate is robust.\n",
        "\n",
        "P>|z|: 0.000 — The error variance is statistically significant.\n",
        "\n",
        "4. Diagnostic Tests\n",
        "Ljung-Box (L1) (Q):\n",
        "\n",
        "Statistic: 0.01 — Tests whether residuals are uncorrelated (white noise).\n",
        "\n",
        "Prob(Q): 0.94 — High probability suggests residuals are uncorrelated, indicating good model fit.\n",
        "\n",
        "Jarque-Bera (JB):\n",
        "\n",
        "Statistic: 1552.71 — Tests whether residuals follow a normal distribution.\n",
        "\n",
        "Prob(JB): 0.00 — Low probability suggests residuals are not normally distributed, possibly due to skewness or kurtosis.\n",
        "\n",
        "Heteroskedasticity (H):\n",
        "\n",
        "Statistic: 2.44 — Indicates variability in residuals across the dataset.\n",
        "\n",
        "Prob(H): 0.00 — Suggests the presence of heteroskedasticity (non-constant variance in errors).\n",
        "\n",
        "Skew: -0.37 — Measures the asymmetry of residuals. Negative skew indicates a longer tail to the left.\n",
        "\n",
        "Kurtosis: 8.24 — Indicates the peakedness of residuals; a value above 3 suggests heavy tails.\n",
        "\n",
        "5. Warnings\n",
        "Covariance Matrix Warning: Indicates that the covariance matrix was calculated using the gradients (complex-step method). This may affect the reliability of confidence intervals.\n",
        "\n",
        "What This Summary Tells Us\n",
        "Model Fit:\n",
        "\n",
        "The ARIMA(1, 1, 0) model adequately captures the time-series data, with significant parameters and uncorrelated residuals.\n",
        "\n",
        "However, residual diagnostics (Jarque-Bera test) suggest the errors are not perfectly normal.\n",
        "\n",
        "Parameter Significance:\n",
        "\n",
        "The ar.L1 parameter (lag 1) is significant, meaning the most recent past value of Close influences future values.\n",
        "\n",
        "The error variance (sigma2) is also robust, ensuring reliable predictions.\n",
        "\n",
        "Residual Behavior:\n",
        "\n",
        "Residuals are white noise (uncorrelated), which is a good sign.\n",
        "\n",
        "However, the presence of heteroskedasticity and non-normality in residuals may impact the model’s ability to handle extreme values.\n",
        "\n",
        "Recommendations:\n",
        "\n",
        "If better residual normality is needed, consider refining the model (e.g., adding seasonal components or trying ARIMA(1, 1, 1)).\n",
        "\n",
        "Despite some residual issues, this model is strong for short-term forecasting."
      ]
    },
    {
      "cell_type": "code",
      "execution_count": null,
      "metadata": {
        "colab": {
          "base_uri": "https://localhost:8080/"
        },
        "id": "jz6dpsZcf35o",
        "outputId": "2170230a-05ef-4166-ee34-1b1d2f59dddf"
      },
      "outputs": [
        {
          "name": "stderr",
          "output_type": "stream",
          "text": [
            "/usr/local/lib/python3.11/dist-packages/statsmodels/tsa/base/tsa_model.py:837: ValueWarning: No supported index is available. Prediction results will be given with an integer index beginning at `start`.\n",
            "  return get_prediction_index(\n",
            "/usr/local/lib/python3.11/dist-packages/statsmodels/tsa/base/tsa_model.py:837: FutureWarning: No supported index is available. In the next version, calling this method in a model without a supported index will result in an exception.\n",
            "  return get_prediction_index(\n"
          ]
        },
        {
          "data": {
            "image/png": "[encoded data removed]",
            "text/plain": [
              "<Figure size 1000x600 with 1 Axes>"
            ]
          },
          "metadata": {},
          "output_type": "display_data"
        }
      ],
      "source": [
        "# Generate forecast\n",
        "forecast_result = arima_result.get_forecast(steps=30)\n",
        "\n",
        "# Extract forecasted values\n",
        "forecast = forecast_result.predicted_mean\n",
        "\n",
        "# Extract confidence intervals\n",
        "conf_int = forecast_result.conf_int()\n",
        "\n",
        "# Visualize the forecast\n",
        "import matplotlib.pyplot as plt\n",
        "\n",
        "plt.figure(figsize=(10, 6))\n",
        "plt.plot(data['Close'], label=\"Original Data\", color='blue')\n",
        "plt.plot(pd.date_range(data.index[-1], periods=30, freq='D'), forecast, label=\"Forecast\", color='red')\n",
        "plt.fill_between(pd.date_range(data.index[-1], periods=30, freq='D'), conf_int.iloc[:, 0], conf_int.iloc[:, 1], color='pink', alpha=0.3)\n",
        "plt.title(\"ARIMA Forecast\")\n",
        "plt.xlabel(\"Date\")\n",
        "plt.ylabel(\"Price\")\n",
        "plt.legend()\n",
        "plt.show()\n"
      ]
    },
    {
      "cell_type": "markdown",
      "metadata": {
        "id": "3y22ReLShx61"
      },
      "source": [
        "Model Specification\n",
        "Dependent Variable: Close (stock's closing price), which is the target for prediction.\n",
        "\n",
        "Model: ARIMA(1, 1, 0):\n",
        "\n",
        "p=1: Indicates that the model uses one lag of the past value (AR term) to predict the current value.\n",
        "\n",
        "d=1: Shows that the data was differenced once to make it stationary.\n",
        "\n",
        "q=0: Indicates no moving average (MA) terms are included in the model.\n",
        "\n",
        "Observations: 1,332 data points were used in the analysis.\n",
        "\n",
        "Goodness-of-Fit Metrics\n",
        "Log Likelihood: -3160.570\n",
        "\n",
        "A measure of how well the model fits the data. Higher values (less negative) indicate a better fit.\n",
        "\n",
        "AIC (Akaike Information Criterion): 6325.140\n",
        "\n",
        "A metric to evaluate model quality, balancing fit and complexity. Lower values indicate a better model.\n",
        "\n",
        "BIC (Bayesian Information Criterion): 6335.527\n",
        "\n",
        "Similar to AIC but applies a stricter penalty for model complexity.\n",
        "\n",
        "HQIC (Hannan-Quinn Information Criterion): 6329.032\n",
        "\n",
        "Another balance of fit and complexity, useful for model comparison.\n",
        "\n",
        "Parameter Estimates\n",
        "ar.L1 (Autoregressive Term):\n",
        "\n",
        "Coefficient: 0.1032\n",
        "\n",
        "Indicates the strength of dependence on the first lag. A positive value means the current value tends to follow the previous value.\n",
        "\n",
        "Standard Error: 0.018\n",
        "\n",
        "A small standard error shows the coefficient estimate is precise.\n",
        "\n",
        "z-value: 5.604\n",
        "\n",
        "A high z-value means the coefficient is statistically significant.\n",
        "\n",
        "p-value: 0.000\n",
        "\n",
        "Indicates the AR term is highly significant (p < 0.05), meaning it has a meaningful impact on the model.\n",
        "\n",
        "Confidence Interval: [0.067, 0.139]\n",
        "\n",
        "The range in which the true coefficient likely falls with 95% confidence.\n",
        "\n",
        "sigma2 (Error Variance):\n",
        "\n",
        "Value: 6.7618\n",
        "\n",
        "Represents the variability of the model's prediction errors.\n",
        "\n",
        "z-value: 48.667\n",
        "\n",
        "A very high value confirms the error variance is robust and significant.\n",
        "\n",
        "Diagnostics\n",
        "Ljung-Box Test (Residuals):\n",
        "\n",
        "Q-statistic: 0.01\n",
        "\n",
        "Probability (Prob Q): 0.94\n",
        "\n",
        "A high p-value indicates the residuals (errors) are uncorrelated (white noise), meaning the model effectively captures the data's structure.\n",
        "\n",
        "Jarque-Bera Test (Residual Normality):\n",
        "\n",
        "Statistic: 1552.71\n",
        "\n",
        "Probability (Prob JB): 0.00\n",
        "\n",
        "A low p-value means residuals are not normally distributed, potentially indicating non-linearity or outliers in the data.\n",
        "\n",
        "Heteroskedasticity Test:\n",
        "\n",
        "Statistic (H): 2.44\n",
        "\n",
        "Probability: 0.00\n",
        "\n",
        "Suggests heteroskedasticity, meaning the residual variance changes over time (common in financial data).\n",
        "\n",
        "Skewness: -0.37\n",
        "\n",
        "Indicates slight asymmetry in the residuals, with a longer tail on the left.\n",
        "\n",
        "Kurtosis: 8.24\n",
        "\n",
        "Suggests the residual distribution is heavy-tailed (leptokurtic), meaning extreme values occur more frequently than in a normal distribution.\n",
        "\n",
        "Interpretation\n",
        "Strengths:\n",
        "\n",
        "The model captures the relationship in the data well, as evidenced by the statistically significant AR(1) term.\n",
        "\n",
        "Residuals are uncorrelated, meaning the model explains most of the variability in the data.\n",
        "\n",
        "Limitations:\n",
        "\n",
        "Residuals are not perfectly normal, with signs of heteroskedasticity and heavy tails. This may affect the reliability of the model in capturing extreme events or volatility.\n",
        "\n",
        "Improvements (like adding seasonal or external variables) could be explored for more robust predictions.\n",
        "\n",
        "Conclusion\n",
        "The ARIMA(1, 1, 0) model is a strong fit for data, particularly for short-term forecasting. However, the diagnostic tests highlight areas where the model could be further refined. Its effectiveness in predicting future prices can be validated with out-of-sample forecasts or by exploring alternative configurations."
      ]
    },
    {
      "cell_type": "markdown",
      "metadata": {
        "id": "y1W9uThMnwXJ"
      },
      "source": [
        "# ***Forecast Future Values***"
      ]
    },
    {
      "cell_type": "markdown",
      "metadata": {
        "id": "fQugFgJqoXZk"
      },
      "source": [
        " trained ARIMA model to predict closing prices for the next time period (e.g., 30 days)."
      ]
    },
    {
      "cell_type": "code",
      "execution_count": null,
      "metadata": {
        "colab": {
          "base_uri": "https://localhost:8080/"
        },
        "id": "LKuEDPuAg3Lk",
        "outputId": "70f57f18-4d16-4ce8-b9f7-b311b3716584"
      },
      "outputs": [
        {
          "name": "stderr",
          "output_type": "stream",
          "text": [
            "/usr/local/lib/python3.11/dist-packages/statsmodels/tsa/base/tsa_model.py:837: ValueWarning: No supported index is available. Prediction results will be given with an integer index beginning at `start`.\n",
            "  return get_prediction_index(\n"
          ]
        },
        {
          "data": {
            "image/png": "[encoded data removed]",
            "text/plain": [
              "<Figure size 1000x600 with 1 Axes>"
            ]
          },
          "metadata": {},
          "output_type": "display_data"
        }
      ],
      "source": [
        "# Generate forecast for the next 30 days\n",
        "forecast_result = arima_result.get_forecast(steps=30)\n",
        "\n",
        "# Extract forecasted values and confidence intervals\n",
        "forecast = forecast_result.predicted_mean\n",
        "conf_int = forecast_result.conf_int()\n",
        "\n",
        "# Visualize the forecast\n",
        "import matplotlib.pyplot as plt\n",
        "\n",
        "plt.figure(figsize=(10, 6))\n",
        "plt.plot(data['Close'], label=\"Historical Data\", color='blue')\n",
        "plt.plot(pd.date_range(data.index[-1], periods=30, freq='D'), forecast, label=\"Forecast\", color='red')\n",
        "plt.fill_between(pd.date_range(data.index[-1], periods=30, freq='D'), conf_int.iloc[:, 0], conf_int.iloc[:, 1], color='pink', alpha=0.3)\n",
        "plt.title(\"ARIMA Forecast: Closing Prices\")\n",
        "plt.xlabel(\"Date\")\n",
        "plt.ylabel(\"Price\")\n",
        "plt.legend()\n",
        "plt.show()\n"
      ]
    },
    {
      "cell_type": "markdown",
      "metadata": {
        "id": "Ja2cz1pEozal"
      },
      "source": [
        "Evaluate Model Accuracy\n",
        "To ensure the model performs well:\n",
        "\n",
        "Split dataset into training and testing sets.\n",
        "\n",
        "Fit the ARIMA model on the training set, then forecast on the testing set.\n",
        "\n",
        "Compare the predictions against actual values using metrics like Mean Squared Error (MSE) or Mean Absolute Percentage Error (MAPE)."
      ]
    },
    {
      "cell_type": "code",
      "execution_count": null,
      "metadata": {
        "colab": {
          "base_uri": "https://localhost:8080/"
        },
        "id": "TDZA-zKnod8G",
        "outputId": "0a9382e1-75b8-4be6-ff05-10d4fbbd102c"
      },
      "outputs": [
        {
          "name": "stdout",
          "output_type": "stream",
          "text": [
            "Mean Squared Error: 540.3280497841769\n"
          ]
        }
      ],
      "source": [
        "from sklearn.metrics import mean_squared_error\n",
        "\n",
        "# Compare predicted vs. actual values\n",
        "actual = data['Close'][-30:]  # Replace with the actual testing set\n",
        "predicted = forecast[:30]\n",
        "mse = mean_squared_error(actual, predicted)\n",
        "print(\"Mean Squared Error:\", mse)\n"
      ]
    },
    {
      "cell_type": "markdown",
      "metadata": {
        "id": "51KZyO-gpGb4"
      },
      "source": [
        "Lower MSE values represent better accuracy, meaning the predictions are closer to the actual values.\n",
        "\n",
        "An MSE of 540.33 suggests the model is reasonably accurate but may not be perfect for long-term forecasting, given financial data's inherent volatility."
      ]
    },
    {
      "cell_type": "code",
      "execution_count": null,
      "metadata": {
        "id": "0bjXP0R7ouDz"
      },
      "outputs": [],
      "source": [
        "# visualize predictions vs actual data\n"
      ]
    },
    {
      "cell_type": "code",
      "execution_count": null,
      "metadata": {
        "colab": {
          "base_uri": "https://localhost:8080/"
        },
        "id": "u2bZMi68pRK7",
        "outputId": "b25e42f6-fe21-4c6f-c338-226379c8ddc4"
      },
      "outputs": [
        {
          "data": {
            "image/png": "[encoded data removed]",
            "text/plain": [
              "<Figure size 1000x600 with 1 Axes>"
            ]
          },
          "metadata": {},
          "output_type": "display_data"
        }
      ],
      "source": [
        "plt.figure(figsize=(10, 6))\n",
        "plt.plot(data['Close'][-30:], label=\"Actual Data\", color='blue')\n",
        "plt.plot(pd.date_range(data.index[-1], periods=30, freq='D'), forecast, label=\"Predicted Data\", color='red')\n",
        "plt.title(\"ARIMA Model: Actual vs Predicted\")\n",
        "plt.legend()\n",
        "plt.show()\n"
      ]
    },
    {
      "cell_type": "markdown",
      "metadata": {
        "id": "3D5_6SmZtMTY"
      },
      "source": [
        "This chart is titled \"ARIMA Model: Actual vs Predicted\" and compares actual data (blue line) with predicted data (red line) over time, specifically from March 15, 2025, to May 15, 2025.\n",
        "\n",
        "1. Understanding the Chart Components:\n",
        "X-Axis (Time): Represents dates from March 15, 2025, to May 15, 2025.\n",
        "\n",
        "Y-Axis (Value Range): Shows stock values ranging from 190 to 230.\n",
        "\n",
        "Blue Line (Actual Data): Represents the real observed values of the stock.\n",
        "\n",
        "Red Line (Predicted Data): Represents the forecasted values generated by the ARIMA model.\n",
        "\n",
        "2. Observations from the Actual Data (Blue Line):\n",
        "Early high values: The actual stock price starts above 230 and then declines sharply until March 25, 2025.\n",
        "\n",
        "Fluctuations: After the initial drop, the data shows multiple peaks and troughs, indicating volatility.\n",
        "\n",
        "Final stabilization: By early May 2025, the stock price appears to level off around 190.\n",
        "\n",
        "3. Observations from the Predicted Data (Red Line):\n",
        "Stable forecast: The ARIMA model predicts a constant value (~190) throughout the forecasted period.\n",
        "\n",
        "Deviation from actual data: The model does not capture the fluctuations seen in the actual data; instead, it assumes the stock will stabilize.\n",
        "\n",
        "Potential Limitations: This could mean that the ARIMA model used was not optimized to capture short-term variations but focuses on long-term trends.\n",
        "\n",
        "4. Key Takeaways:\n",
        "The ARIMA model predicts stability, whereas the actual data shows fluctuations.\n",
        "\n",
        "The model might work well for long-term forecasting, but it does not capture short-term volatility effectively.\n",
        "\n",
        "This comparison helps investors and analysts assess the reliability of the ARIMA model in predicting future stock movements."
      ]
    },
    {
      "cell_type": "markdown",
      "metadata": {
        "id": "dgqXb_tvtgpT"
      },
      "source": [
        "# ***TRAIN AND EVALUATE DATA***"
      ]
    },
    {
      "cell_type": "code",
      "execution_count": null,
      "metadata": {
        "colab": {
          "base_uri": "https://localhost:8080/"
        },
        "id": "dpzHpgbIpS2q",
        "outputId": "b6d622c7-4311-4413-89bf-0e3732af80df"
      },
      "outputs": [
        {
          "name": "stdout",
          "output_type": "stream",
          "text": [
            "Training Data Size: 1065\n",
            "Testing Data Size: 267\n"
          ]
        }
      ],
      "source": [
        "#1 SPLIT DATA INTO TRAINIG AND TESTING SETS\n",
        "# Split the data into training and testing sets (e.g., 80-20 split)\n",
        "train_size = int(len(data) * 0.8)\n",
        "train_data = data['Close'][:train_size]\n",
        "test_data = data['Close'][train_size:]\n",
        "\n",
        "print(f\"Training Data Size: {len(train_data)}\")\n",
        "print(f\"Testing Data Size: {len(test_data)}\")\n"
      ]
    },
    {
      "cell_type": "code",
      "execution_count": null,
      "metadata": {
        "colab": {
          "base_uri": "https://localhost:8080/"
        },
        "id": "tKcAo2omtsk7",
        "outputId": "40997b1d-7404-4679-d9be-72c683c2ea13"
      },
      "outputs": [
        {
          "name": "stderr",
          "output_type": "stream",
          "text": [
            "/usr/local/lib/python3.11/dist-packages/statsmodels/tsa/base/tsa_model.py:473: ValueWarning: A date index has been provided, but it has no associated frequency information and so will be ignored when e.g. forecasting.\n",
            "  self._init_dates(dates, freq)\n",
            "/usr/local/lib/python3.11/dist-packages/statsmodels/tsa/base/tsa_model.py:473: ValueWarning: A date index has been provided, but it has no associated frequency information and so will be ignored when e.g. forecasting.\n",
            "  self._init_dates(dates, freq)\n",
            "/usr/local/lib/python3.11/dist-packages/statsmodels/tsa/base/tsa_model.py:473: ValueWarning: A date index has been provided, but it has no associated frequency information and so will be ignored when e.g. forecasting.\n",
            "  self._init_dates(dates, freq)\n"
          ]
        },
        {
          "name": "stdout",
          "output_type": "stream",
          "text": [
            "                               SARIMAX Results                                \n",
            "==============================================================================\n",
            "Dep. Variable:                  Close   No. Observations:                 1065\n",
            "Model:                 ARIMA(1, 1, 0)   Log Likelihood               -2384.529\n",
            "Date:                Tue, 22 Apr 2025   AIC                           4773.058\n",
            "Time:                        21:24:52   BIC                           4782.997\n",
            "Sample:                             0   HQIC                          4776.824\n",
            "                               - 1065                                         \n",
            "Covariance Type:                  opg                                         \n",
            "==============================================================================\n",
            "                 coef    std err          z      P>|z|      [0.025      0.975]\n",
            "------------------------------------------------------------------------------\n",
            "ar.L1          0.0927      0.027      3.472      0.001       0.040       0.145\n",
            "sigma2         5.1775      0.161     32.216      0.000       4.863       5.493\n",
            "===================================================================================\n",
            "Ljung-Box (L1) (Q):                   0.00   Jarque-Bera (JB):               169.60\n",
            "Prob(Q):                              0.98   Prob(JB):                         0.00\n",
            "Heteroskedasticity (H):               1.23   Skew:                            -0.15\n",
            "Prob(H) (two-sided):                  0.05   Kurtosis:                         4.93\n",
            "===================================================================================\n",
            "\n",
            "Warnings:\n",
            "[1] Covariance matrix calculated using the outer product of gradients (complex-step).\n"
          ]
        }
      ],
      "source": [
        "#2 TRAIN THE ARIMA MODEL\n",
        "from statsmodels.tsa.arima.model import ARIMA\n",
        "\n",
        "# Define and train the ARIMA model\n",
        "model = ARIMA(train_data, order=(1, 1, 0))  # Adjust order if needed\n",
        "arima_result = model.fit()\n",
        "\n",
        "# Print model summary\n",
        "print(arima_result.summary())\n"
      ]
    },
    {
      "cell_type": "code",
      "execution_count": null,
      "metadata": {
        "colab": {
          "base_uri": "https://localhost:8080/"
        },
        "id": "-kyEGPRzt1qy",
        "outputId": "4e3cb320-6f0a-453d-f1b8-11a05d5ab959"
      },
      "outputs": [
        {
          "name": "stderr",
          "output_type": "stream",
          "text": [
            "/usr/local/lib/python3.11/dist-packages/statsmodels/tsa/base/tsa_model.py:837: ValueWarning: No supported index is available. Prediction results will be given with an integer index beginning at `start`.\n",
            "  return get_prediction_index(\n",
            "/usr/local/lib/python3.11/dist-packages/statsmodels/tsa/base/tsa_model.py:837: FutureWarning: No supported index is available. In the next version, calling this method in a model without a supported index will result in an exception.\n",
            "  return get_prediction_index(\n"
          ]
        }
      ],
      "source": [
        "#3 FORECAST USING THE TESTING DATA\n",
        "# Forecast the testing period\n",
        "forecast_result = arima_result.get_forecast(steps=len(test_data))\n",
        "forecast = forecast_result.predicted_mean\n",
        "\n",
        "# Confidence intervals for the forecast\n",
        "conf_int = forecast_result.conf_int()\n"
      ]
    },
    {
      "cell_type": "code",
      "execution_count": null,
      "metadata": {
        "colab": {
          "base_uri": "https://localhost:8080/"
        },
        "id": "H4Sk2n2qt_DD",
        "outputId": "30989127-b70d-45d7-830f-d8c4b10a7049"
      },
      "outputs": [
        {
          "name": "stderr",
          "output_type": "stream",
          "text": [
            "/usr/local/lib/python3.11/dist-packages/statsmodels/tsa/base/tsa_model.py:837: ValueWarning: No supported index is available. Prediction results will be given with an integer index beginning at `start`.\n",
            "  return get_prediction_index(\n"
          ]
        }
      ],
      "source": [
        "# Forecast the testing period\n",
        "forecast_result = arima_result.get_forecast(steps=len(test_data))\n",
        "forecast = forecast_result.predicted_mean\n",
        "\n",
        "# Confidence intervals for the forecast\n",
        "conf_int = forecast_result.conf_int()\n"
      ]
    },
    {
      "cell_type": "code",
      "execution_count": null,
      "metadata": {
        "id": "RrpCnT6DuMh3"
      },
      "outputs": [],
      "source": [
        "# Ensure your Date column is in datetime format\n",
        "data.index = pd.date_range(start=data.index[0], periods=len(data), freq='D')\n"
      ]
    },
    {
      "cell_type": "code",
      "execution_count": null,
      "metadata": {
        "colab": {
          "base_uri": "https://localhost:8080/"
        },
        "id": "N_o2mcB7u9pS",
        "outputId": "0ab6829f-285e-40ad-c565-6639fc216c9f"
      },
      "outputs": [
        {
          "data": {
            "image/png": "[encoded data removed]",
            "text/plain": [
              "<Figure size 1200x600 with 1 Axes>"
            ]
          },
          "metadata": {},
          "output_type": "display_data"
        }
      ],
      "source": [
        "#visualize predictions vs actual values\n",
        "import matplotlib.pyplot as plt\n",
        "\n",
        "plt.figure(figsize=(12, 6))\n",
        "plt.plot(test_data.index, test_data, label=\"Actual\", color=\"blue\")\n",
        "plt.plot(test_data.index, forecast, label=\"Forecast\", color=\"red\")\n",
        "plt.fill_between(test_data.index, conf_int.iloc[:, 0], conf_int.iloc[:, 1], color='pink', alpha=0.3)\n",
        "plt.title(\"ARIMA Model: Actual vs Predicted\")\n",
        "plt.xlabel(\"Date\")\n",
        "plt.ylabel(\"Price\")\n",
        "plt.legend()\n",
        "plt.show()\n"
      ]
    },
    {
      "cell_type": "markdown",
      "metadata": {
        "id": "fHvSdYmhwNun"
      },
      "source": [
        "The blue line represents the real prices over time, which go up and down.\n",
        "\n",
        "The red line represents the forecasted prices, which stay almost flat at 190 after April 20, 2025.\n",
        "\n",
        "This means that the model expected prices to remain stable, but in reality, the prices kept changing.\n",
        "\n",
        "The graph helps us compare predictions with actual trends to see if the forecasting model is accurate."
      ]
    },
    {
      "cell_type": "markdown",
      "metadata": {
        "id": "5DUySNM4wS77"
      },
      "source": [
        "# ***EVALUATE MODEL PERFORMANCE***"
      ]
    },
    {
      "cell_type": "code",
      "execution_count": null,
      "metadata": {
        "colab": {
          "base_uri": "https://localhost:8080/"
        },
        "id": "lwfB72y7vg98",
        "outputId": "a0989b7e-9ba3-4049-f743-ff23603e0c90"
      },
      "outputs": [
        {
          "name": "stdout",
          "output_type": "stream",
          "text": [
            "RMSE: 54.041119078958026\n",
            "R-squared: -4.572669348377342\n"
          ]
        }
      ],
      "source": [
        "#Evaluate the model's accuracy using metrics like Root Mean Squared Error (RMSE) and R-squared:\n",
        "from sklearn.metrics import mean_squared_error, r2_score\n",
        "import numpy as np\n",
        "\n",
        "# Calculate RMSE\n",
        "rmse = np.sqrt(mean_squared_error(test_data, forecast))\n",
        "print(f\"RMSE: {rmse}\")\n",
        "\n",
        "# Calculate R-squared\n",
        "r2 = r2_score(test_data, forecast)\n",
        "print(f\"R-squared: {r2}\")\n"
      ]
    },
    {
      "cell_type": "markdown",
      "metadata": {
        "id": "h5MCb0CFxKlD"
      },
      "source": [
        "Value: 54.04\n",
        "\n",
        "Meaning: RMSE measures the average error in the same units as the original data (stock prices). A smaller RMSE indicates better predictions.\n",
        "\n",
        "Analysis: An RMSE of 54.04 suggests that, on average, your predicted stock prices deviate by around 54 units from the actual prices.\n",
        "\n",
        "2. R-squared\n",
        "Value: -4.57\n",
        "\n",
        "Meaning: R-squared explains the proportion of variance in the dependent variable (stock prices) that the model"
      ]
    },
    {
      "cell_type": "markdown",
      "metadata": {
        "id": "ZcmrARyYx7b2"
      },
      "source": [
        "# ***DEPLOY THE ARIMA MODEL WITH FLASK***"
      ]
    },
    {
      "cell_type": "code",
      "execution_count": null,
      "metadata": {
        "colab": {
          "base_uri": "https://localhost:8080/"
        },
        "id": "AGpe18KDwdgQ",
        "outputId": "aef155bd-c837-4a68-edfe-78a02bc0f556"
      },
      "outputs": [
        {
          "name": "stdout",
          "output_type": "stream",
          "text": [
            "Requirement already satisfied: flask in /usr/local/lib/python3.11/dist-packages (3.1.0)\n",
            "Requirement already satisfied: Werkzeug>=3.1 in /usr/local/lib/python3.11/dist-packages (from flask) (3.1.3)\n",
            "Requirement already satisfied: Jinja2>=3.1.2 in /usr/local/lib/python3.11/dist-packages (from flask) (3.1.6)\n",
            "Requirement already satisfied: itsdangerous>=2.2 in /usr/local/lib/python3.11/dist-packages (from flask) (2.2.0)\n",
            "Requirement already satisfied: click>=8.1.3 in /usr/local/lib/python3.11/dist-packages (from flask) (8.1.8)\n",
            "Requirement already satisfied: blinker>=1.9 in /usr/local/lib/python3.11/dist-packages (from flask) (1.9.0)\n",
            "Requirement already satisfied: MarkupSafe>=2.0 in /usr/local/lib/python3.11/dist-packages (from Jinja2>=3.1.2->flask) (3.0.2)\n"
          ]
        }
      ],
      "source": [
        "pip install flask"
      ]
    },
    {
      "cell_type": "code",
      "execution_count": null,
      "metadata": {
        "colab": {
          "base_uri": "https://localhost:8080/"
        },
        "id": "qOcIrNaFyGXf",
        "outputId": "1ca196bb-f717-4057-dcf2-466c1562406f"
      },
      "outputs": [
        {
          "name": "stdout",
          "output_type": "stream",
          "text": [
            "float64\n",
            "2020-01-02    72.776606\n",
            "2020-01-03    72.771745\n",
            "2020-01-04    72.621646\n",
            "2020-01-05    72.849224\n",
            "2020-01-06    73.706287\n",
            "Freq: D, Name: Close, dtype: float64\n",
            "0\n"
          ]
        }
      ],
      "source": [
        "import pandas as pd\n",
        "import numpy as np\n",
        "\n",
        "# Check for non-numeric values\n",
        "print(data['Close'].dtype)\n",
        "print(data['Close'].head())  # Check the first few rows\n",
        "\n",
        "# Convert the 'Close' column to numeric, forcing non-numeric values to NaN\n",
        "data['Close'] = pd.to_numeric(data['Close'], errors='coerce')\n",
        "\n",
        "# Check for missing values\n",
        "print(data['Close'].isnull().sum())\n",
        "\n",
        "# Drop rows with NaN values (if any exist after coercion)\n",
        "data = data.dropna(subset=['Close'])\n"
      ]
    },
    {
      "cell_type": "code",
      "execution_count": null,
      "metadata": {
        "colab": {
          "base_uri": "https://localhost:8080/"
        },
        "id": "2xNKcaTxyNSi",
        "outputId": "07a9f695-cd43-4ad7-bccc-a41481214d76"
      },
      "outputs": [
        {
          "name": "stdout",
          "output_type": "stream",
          "text": [
            "                               SARIMAX Results                                \n",
            "==============================================================================\n",
            "Dep. Variable:                  Close   No. Observations:                 1332\n",
            "Model:                 ARIMA(1, 1, 0)   Log Likelihood               -3160.570\n",
            "Date:                Tue, 22 Apr 2025   AIC                           6325.140\n",
            "Time:                        21:24:59   BIC                           6335.528\n",
            "Sample:                    01-02-2020   HQIC                          6329.033\n",
            "                         - 08-25-2023                                         \n",
            "Covariance Type:                  opg                                         \n",
            "==============================================================================\n",
            "                 coef    std err          z      P>|z|      [0.025      0.975]\n",
            "------------------------------------------------------------------------------\n",
            "ar.L1          0.1032      0.018      5.604      0.000       0.067       0.139\n",
            "sigma2         6.7618      0.139     48.667      0.000       6.489       7.034\n",
            "===================================================================================\n",
            "Ljung-Box (L1) (Q):                   0.01   Jarque-Bera (JB):              1552.71\n",
            "Prob(Q):                              0.94   Prob(JB):                         0.00\n",
            "Heteroskedasticity (H):               2.44   Skew:                            -0.37\n",
            "Prob(H) (two-sided):                  0.00   Kurtosis:                         8.24\n",
            "===================================================================================\n",
            "\n",
            "Warnings:\n",
            "[1] Covariance matrix calculated using the outer product of gradients (complex-step).\n"
          ]
        }
      ],
      "source": [
        "from statsmodels.tsa.arima.model import ARIMA\n",
        "\n",
        "# Define and fit the ARIMA model\n",
        "model = ARIMA(data['Close'], order=(1, 1, 0))\n",
        "arima_result = model.fit()\n",
        "\n",
        "# Print the summary to ensure the model fits successfully\n",
        "print(arima_result.summary())\n"
      ]
    },
    {
      "cell_type": "code",
      "execution_count": null,
      "metadata": {
        "id": "f2HIQxdsy_cS"
      },
      "outputs": [],
      "source": []
    },
    {
      "cell_type": "code",
      "execution_count": null,
      "metadata": {
        "id": "_aO60ESGzGFN"
      },
      "outputs": [],
      "source": [
        "import pandas as pd\n",
        "import numpy as np\n",
        "from flask import Flask, jsonify\n",
        "\n",
        "# Load your data\n",
        "data = pd.read_csv(\"apple_stock_data.csv\")\n",
        "\n",
        "# Preprocess the 'Close' column to ensure it's numeric\n",
        "data['Close'] = pd.to_numeric(data['Close'], errors='coerce')  # Convert to numeric, replace errors with NaN\n",
        "data.dropna(subset=['Close'], inplace=True)  # Drop rows with NaN values\n"
      ]
    },
    {
      "cell_type": "code",
      "execution_count": null,
      "metadata": {
        "colab": {
          "base_uri": "https://localhost:8080/"
        },
        "id": "WHRCLxLRzSo4",
        "outputId": "858d1fee-f1c5-4110-dacc-6159d28fd218"
      },
      "outputs": [
        {
          "name": "stderr",
          "output_type": "stream",
          "text": [
            "/usr/local/lib/python3.11/dist-packages/statsmodels/tsa/base/tsa_model.py:473: ValueWarning: An unsupported index was provided. As a result, forecasts cannot be generated. To use the model for forecasting, use one of the supported classes of index.\n",
            "  self._init_dates(dates, freq)\n",
            "/usr/local/lib/python3.11/dist-packages/statsmodels/tsa/base/tsa_model.py:473: ValueWarning: An unsupported index was provided. As a result, forecasts cannot be generated. To use the model for forecasting, use one of the supported classes of index.\n",
            "  self._init_dates(dates, freq)\n",
            "/usr/local/lib/python3.11/dist-packages/statsmodels/tsa/base/tsa_model.py:473: ValueWarning: An unsupported index was provided. As a result, forecasts cannot be generated. To use the model for forecasting, use one of the supported classes of index.\n",
            "  self._init_dates(dates, freq)\n"
          ]
        }
      ],
      "source": [
        "from statsmodels.tsa.arima.model import ARIMA\n",
        "\n",
        "# Define and fit the ARIMA model\n",
        "model = ARIMA(data['Close'], order=(1, 1, 0))  # Adjust order (p, d, q) if necessary\n",
        "arima_result = model.fit()\n"
      ]
    },
    {
      "cell_type": "code",
      "execution_count": null,
      "metadata": {
        "colab": {
          "background_save": true,
          "base_uri": "https://localhost:8080/"
        },
        "id": "fhF76H5EzWUp",
        "outputId": "447e6b42-b64b-4ba1-9bd8-3a73f35ad1f0"
      },
      "outputs": [
        {
          "name": "stdout",
          "output_type": "stream",
          "text": [
            " * Serving Flask app '__main__'\n",
            " * Debug mode: on\n"
          ]
        },
        {
          "name": "stderr",
          "output_type": "stream",
          "text": [
            "INFO:werkzeug:\u001b[31m\u001b[1mWARNING: This is a development server. Do not use it in a production deployment. Use a production WSGI server instead.\u001b[0m\n",
            " * Running on http://127.0.0.1:5000\n",
            "INFO:werkzeug:\u001b[33mPress CTRL+C to quit\u001b[0m\n",
            "INFO:werkzeug: * Restarting with stat\n"
          ]
        }
      ],
      "source": [
        "app = Flask(__name__)\n",
        "\n",
        "@app.route('/predict', methods=['GET'])\n",
        "def predict():\n",
        "    # Forecast the next 10 days\n",
        "    forecast_result = arima_result.get_forecast(steps=10)\n",
        "    forecast = forecast_result.predicted_mean.tolist()\n",
        "    confidence_intervals = forecast_result.conf_int().values.tolist()\n",
        "\n",
        "    return jsonify({\n",
        "        \"forecast\": forecast,\n",
        "        \"confidence_intervals\": confidence_intervals\n",
        "    })\n",
        "\n",
        "if __name__ == \"__main__\":\n",
        "    app.run(debug=True)\n"
      ]
    },
    {
      "cell_type": "code",
      "execution_count": null,
      "metadata": {
        "id": "7IcGpNIvzaay"
      },
      "outputs": [],
      "source": [
        "from flask import Flask, jsonify\n",
        "import pandas as pd\n",
        "from statsmodels.tsa.arima.model import ARIMA\n",
        "\n",
        "# Initialize the Flask application\n",
        "app = Flask(__name__)\n",
        "\n",
        "# Load and preprocess your data\n",
        "try:\n",
        "    data = pd.read_csv(\"apple_stock_data.csv\")  # Ensure this file exists in the same directory\n",
        "    data['Close'] = pd.to_numeric(data['Close'], errors='coerce')  # Convert to numeric\n",
        "    data.dropna(subset=['Close'], inplace=True)  # Remove NaN values\n",
        "except Exception as e:\n",
        "    print(f\"Error loading data: {e}\")\n",
        "    exit()\n",
        "\n",
        "# Train the ARIMA model\n",
        "try:\n",
        "    model = ARIMA(data['Close'], order=(1, 1, 0))  # Adjust ARIMA order (p, d, q) if needed\n",
        "    arima_result = model.fit()\n",
        "except Exception as e:\n",
        "    print(f\"Error training ARIMA model: {e}\")\n",
        "    exit()\n",
        "\n",
        "# Define the forecast endpoint\n",
        "@app.route('/forecast', methods=['GET'])\n",
        "def forecast():\n",
        "    try:\n",
        "        # Forecast the next 10 days\n",
        "        forecast_result = arima_result.get_forecast(steps=10)\n",
        "        forecast = forecast_result.predicted_mean.tolist()\n",
        "        confidence_intervals = forecast_result.conf_int().values.tolist()\n",
        "\n",
        "        return jsonify({\n",
        "            \"forecast\": forecast,\n",
        "            \"confidence_intervals\": confidence_intervals\n",
        "        })\n",
        "    except Exception as e:\n",
        "        return jsonify({\"error\": f\"An error occurred during forecasting: {e}\"}), 500\n",
        "\n",
        "if __name__ == \"__main__\":\n",
        "    # Run the Flask app on port 8080 (different from the default 5000)\n",
        "    app.run(debug=True, port=8080)\n"
      ]
    },
    {
      "cell_type": "code",
      "execution_count": null,
      "metadata": {
        "id": "4ILQgVfZ5ppK"
      },
      "outputs": [],
      "source": [
        "python flask_app.py\n"
      ]
    },
    {
      "cell_type": "markdown",
      "metadata": {
        "id": "eSklusLY6zGE"
      },
      "source": []
    }
  ],
  "metadata": {
    "colab": {
      "provenance": []
    },
    "kernelspec": {
      "display_name": "Python 3",
      "name": "python3"
    },
    "language_info": {
      "name": "python"
    }
  },
  "nbformat": 4,
  "nbformat_minor": 0
}